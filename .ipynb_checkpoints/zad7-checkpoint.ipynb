{
 "cells": [
  {
   "cell_type": "code",
   "execution_count": 1,
   "id": "0f4de813",
   "metadata": {},
   "outputs": [
    {
     "name": "stdout",
     "output_type": "stream",
     "text": [
      "Accuracy: 0.922869735553379\n",
      "Precision: 0.9230650614001625\n",
      "Confusion matrix:\n",
      "[[355   0  26   0   1   3  10]\n",
      " [  0 161   0   0   0   0   0]\n",
      " [ 18   0 446   0  10   2   3]\n",
      " [  0   0   0 968   2  19  54]\n",
      " [  1   0   8   3 561   0  15]\n",
      " [  4   0   0  21   0 581  13]\n",
      " [  1   0   2  80   8  11 697]]\n",
      "Best parameters:\n",
      "{'max_depth': 7, 'n_estimators': 100}\n",
      "Accuracy with best parameters: 0.9123408423114594\n",
      "Precision with best parameters: 0.9131712664744028\n"
     ]
    }
   ],
   "source": [
    "import pandas as pd\n",
    "from sklearn.ensemble import RandomForestClassifier\n",
    "from sklearn.model_selection import train_test_split, GridSearchCV\n",
    "from sklearn.metrics import accuracy_score, precision_score, confusion_matrix\n",
    "from sklearn.preprocessing import StandardScaler\n",
    "\n",
    "data = pd.read_excel('dataset.xlsx')\n",
    "\n",
    "X = data.drop('Class', axis=1)\n",
    "y = data[['Class']]\n",
    "\n",
    "X_train, X_test, y_train, y_test = train_test_split(X, y, test_size=0.3, random_state=42)\n",
    "\n",
    "rand_model = RandomForestClassifier()\n",
    "rand_model.fit(X_train, y_train.values.ravel())\n",
    "\n",
    "y_test_pred = rand_model.predict(X_test)\n",
    "\n",
    "accuracy = accuracy_score(y_test, y_test_pred)\n",
    "precision = precision_score(y_test, y_test_pred, average='weighted')\n",
    "\n",
    "print(\"Accuracy:\", accuracy)\n",
    "print(\"Precision:\", precision)\n",
    "\n",
    "confusion = confusion_matrix(y_test, y_test_pred)\n",
    "\n",
    "print(\"Confusion matrix:\")\n",
    "print(confusion)\n",
    "\n",
    "parameters = {'n_estimators': [10, 50, 100], 'max_depth': [3, 5, 7]}\n",
    "clf = GridSearchCV(RandomForestClassifier(), parameters)\n",
    "clf.fit(X_train, y_train.values.ravel())\n",
    "\n",
    "print(\"Best parameters:\")\n",
    "print(clf.best_params_)\n",
    "\n",
    "best_model = RandomForestClassifier(n_estimators=clf.best_params_['n_estimators'], max_depth=clf.best_params_['max_depth'])\n",
    "best_model.fit(X_train, y_train.values.ravel())\n",
    "\n",
    "y_pred_best = best_model.predict(X_test)\n",
    "\n",
    "accuracy_best = accuracy_score(y_test, y_pred_best)\n",
    "precision_best = precision_score(y_test, y_pred_best, average='weighted')\n",
    "\n",
    "print(\"Accuracy with best parameters:\", accuracy_best)\n",
    "print(\"Precision with best parameters:\", precision_best)"
   ]
  },
  {
   "cell_type": "code",
   "execution_count": null,
   "id": "b06fc3dc",
   "metadata": {},
   "outputs": [],
   "source": []
  }
 ],
 "metadata": {
  "kernelspec": {
   "display_name": "Python 3 (ipykernel)",
   "language": "python",
   "name": "python3"
  },
  "language_info": {
   "codemirror_mode": {
    "name": "ipython",
    "version": 3
   },
   "file_extension": ".py",
   "mimetype": "text/x-python",
   "name": "python",
   "nbconvert_exporter": "python",
   "pygments_lexer": "ipython3",
   "version": "3.10.11"
  }
 },
 "nbformat": 4,
 "nbformat_minor": 5
}
