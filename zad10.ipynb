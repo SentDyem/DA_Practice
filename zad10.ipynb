{
 "cells": [
  {
   "cell_type": "code",
   "execution_count": 1,
   "id": "d9736473",
   "metadata": {},
   "outputs": [
    {
     "name": "stderr",
     "output_type": "stream",
     "text": [
      "C:\\Users\\SentDyem\\AppData\\Local\\Programs\\Python\\Python310\\lib\\site-packages\\sklearn\\metrics\\_classification.py:1344: UndefinedMetricWarning: Precision is ill-defined and being set to 0.0 in labels with no predicted samples. Use `zero_division` parameter to control this behavior.\n",
      "  _warn_prf(average, modifier, msg_start, len(result))\n"
     ]
    },
    {
     "name": "stdout",
     "output_type": "stream",
     "text": [
      "Accuracy: 0.6466699314397649\n",
      "Precision: 0.647938637426868\n",
      "Confusion matrix:\n",
      "[[  0   0 350   0   1   1  43]\n",
      " [161   0   0   0   0   0   0]\n",
      " [  0   0 474   0   2   1   2]\n",
      " [  0   0   0 991   0   0  52]\n",
      " [  0   0 100   6 447   0  35]\n",
      " [  0   0   1 451   0 121  46]\n",
      " [  0   0  32 120  35   4 608]]\n",
      "Best parameters:\n",
      "{'learning_rate': 0.01, 'n_estimators': 50}\n",
      "Accuracy with best parameters: 0.6802154750244858\n",
      "Precision with best parameters: 0.731173541422776\n"
     ]
    },
    {
     "name": "stderr",
     "output_type": "stream",
     "text": [
      "C:\\Users\\SentDyem\\AppData\\Local\\Programs\\Python\\Python310\\lib\\site-packages\\sklearn\\metrics\\_classification.py:1344: UndefinedMetricWarning: Precision is ill-defined and being set to 0.0 in labels with no predicted samples. Use `zero_division` parameter to control this behavior.\n",
      "  _warn_prf(average, modifier, msg_start, len(result))\n"
     ]
    }
   ],
   "source": [
    "import pandas as pd\n",
    "from sklearn.ensemble import AdaBoostClassifier\n",
    "from sklearn.tree import DecisionTreeClassifier\n",
    "from sklearn.model_selection import train_test_split, GridSearchCV\n",
    "from sklearn.metrics import accuracy_score, precision_score, confusion_matrix\n",
    "from sklearn.preprocessing import StandardScaler\n",
    "\n",
    "data = pd.read_excel('dataset.xlsx')\n",
    "\n",
    "X = data.drop('Class', axis=1)\n",
    "y = data[['Class']]\n",
    "\n",
    "X_train, X_test, y_train, y_test = train_test_split(X, y, test_size=0.3, random_state=42)\n",
    "\n",
    "base_model = DecisionTreeClassifier(max_depth=1)\n",
    "ada_model = AdaBoostClassifier(estimator=base_model)\n",
    "\n",
    "stdscalar=StandardScaler()\n",
    "X_train=stdscalar.fit_transform(X_train)\n",
    "X_test=stdscalar.transform(X_test)\n",
    "\n",
    "ada_model.fit(X_train, y_train.values.ravel())\n",
    "\n",
    "y_test_pred = ada_model.predict(X_test)\n",
    "\n",
    "accuracy = accuracy_score(y_test, y_test_pred)\n",
    "precision = precision_score(y_test, y_test_pred, average='weighted')\n",
    "\n",
    "print(\"Accuracy:\", accuracy)\n",
    "print(\"Precision:\", precision)\n",
    "\n",
    "confusion = confusion_matrix(y_test, y_test_pred)\n",
    "\n",
    "print(\"Confusion matrix:\")\n",
    "print(confusion)\n",
    "\n",
    "parameters = {'n_estimators': [50, 100, 200], 'learning_rate': [0.01, 0.1, 1]}\n",
    "clf = GridSearchCV(AdaBoostClassifier(estimator=base_model), parameters)\n",
    "clf.fit(X_train, y_train.values.ravel())\n",
    "\n",
    "print(\"Best parameters:\")\n",
    "print(clf.best_params_)\n",
    "\n",
    "best_model = AdaBoostClassifier(estimator=base_model, n_estimators=clf.best_params_['n_estimators'], learning_rate=clf.best_params_['learning_rate'])\n",
    "best_model.fit(X_train, y_train.values.ravel())\n",
    "\n",
    "y_pred_best = best_model.predict(X_test)\n",
    "\n",
    "accuracy_best = accuracy_score(y_test, y_pred_best)\n",
    "precision_best = precision_score(y_test, y_pred_best, average='weighted')\n",
    "\n",
    "print(\"Accuracy with best parameters:\", accuracy_best)\n",
    "print(\"Precision with best parameters:\", precision_best)"
   ]
  },
  {
   "cell_type": "code",
   "execution_count": null,
   "id": "02b68557",
   "metadata": {},
   "outputs": [],
   "source": []
  }
 ],
 "metadata": {
  "kernelspec": {
   "display_name": "Python 3 (ipykernel)",
   "language": "python",
   "name": "python3"
  },
  "language_info": {
   "codemirror_mode": {
    "name": "ipython",
    "version": 3
   },
   "file_extension": ".py",
   "mimetype": "text/x-python",
   "name": "python",
   "nbconvert_exporter": "python",
   "pygments_lexer": "ipython3",
   "version": "3.10.11"
  }
 },
 "nbformat": 4,
 "nbformat_minor": 5
}
