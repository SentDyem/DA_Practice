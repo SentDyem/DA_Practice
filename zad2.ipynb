{
 "cells": [
  {
   "cell_type": "code",
   "execution_count": null,
   "id": "b8d3305b",
   "metadata": {},
   "outputs": [],
   "source": []
  },
  {
   "cell_type": "code",
   "execution_count": 7,
   "id": "c9b50305",
   "metadata": {},
   "outputs": [
    {
     "name": "stdout",
     "output_type": "stream",
     "text": [
      "Accuracy: 0.7660668380462725\n",
      "Precision: 0.7662499598003294\n",
      "Confusion matrix:\n",
      " [[131   0  85   0  33   0   8]\n",
      " [  0  96   0   0   0   0   0]\n",
      " [ 67   1 281   0  19   0   0]\n",
      " [  0   0   0 586   0  84  32]\n",
      " [  9   0  11   9 286   0  56]\n",
      " [  5   0   0  48   4 305  54]\n",
      " [  0   0   0  22  49  41 401]]\n",
      "Best parameters: {'var_smoothing': 1e-10}\n",
      "Best score: 0.7887585083726563\n"
     ]
    }
   ],
   "source": [
    "import pandas as pd\n",
    "from sklearn.naive_bayes import GaussianNB\n",
    "from sklearn.model_selection import train_test_split, GridSearchCV\n",
    "from sklearn.metrics import accuracy_score, precision_score, confusion_matrix\n",
    "from sklearn.preprocessing import StandardScaler\n",
    "\n",
    "data = pd.read_excel('dataset.xlsx')\n",
    "\n",
    "X = data.drop('Class', axis=1)\n",
    "y = data[['Class']]\n",
    "\n",
    "X_train, X_test, y_train, y_test = train_test_split(X, y, test_size=0.2)\n",
    "\n",
    "nb_model = GaussianNB()\n",
    "nb_model.fit(X_train, y_train.values.ravel())\n",
    "\n",
    "y_train_pred = nb_model.predict(X_train)\n",
    "y_test_pred = nb_model.predict(X_test)\n",
    "\n",
    "accuracy = accuracy_score(y_test, y_test_pred)\n",
    "precision = precision_score(y_test, y_test_pred, average='weighted')\n",
    "confusion_mat = confusion_matrix(y_test, y_test_pred)\n",
    "\n",
    "print('Accuracy:', accuracy)\n",
    "print('Precision:', precision)\n",
    "print('Confusion matrix:\\n', confusion_mat)\n",
    "\n",
    "parameters = {'var_smoothing': [1e-10, 1e-9, 1e-8, 1e-7]}\n",
    "nb_model_gs = GridSearchCV(GaussianNB(), parameters)\n",
    "nb_model_gs.fit(X_train, y_train.values.ravel())\n",
    "\n",
    "print('Best parameters:', nb_model_gs.best_params_)\n",
    "print('Best score:', nb_model_gs.best_score_)"
   ]
  },
  {
   "cell_type": "code",
   "execution_count": null,
   "id": "bea24ffd",
   "metadata": {},
   "outputs": [],
   "source": []
  },
  {
   "cell_type": "code",
   "execution_count": null,
   "id": "6b22f148",
   "metadata": {},
   "outputs": [],
   "source": []
  },
  {
   "cell_type": "code",
   "execution_count": null,
   "id": "970c7fcf",
   "metadata": {},
   "outputs": [],
   "source": []
  }
 ],
 "metadata": {
  "kernelspec": {
   "display_name": "Python 3 (ipykernel)",
   "language": "python",
   "name": "python3"
  },
  "language_info": {
   "codemirror_mode": {
    "name": "ipython",
    "version": 3
   },
   "file_extension": ".py",
   "mimetype": "text/x-python",
   "name": "python",
   "nbconvert_exporter": "python",
   "pygments_lexer": "ipython3",
   "version": "3.10.11"
  }
 },
 "nbformat": 4,
 "nbformat_minor": 5
}
