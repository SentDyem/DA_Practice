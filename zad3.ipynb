{
 "cells": [
  {
   "cell_type": "code",
   "execution_count": 4,
   "id": "6a83636a",
   "metadata": {},
   "outputs": [
    {
     "name": "stdout",
     "output_type": "stream",
     "text": [
      "Accuracy: 0.7194271024605214\n",
      "Precision: 0.722414650639383\n",
      "Confusion matrix:\n",
      " [[118   0 104   0  30   0   9]\n",
      " [  0 117   0   0   0   0   0]\n",
      " [100   0 202   0  14   0   1]\n",
      " [  0   0   0 597   1  31  42]\n",
      " [ 42   0  24  14 268   1  59]\n",
      " [  2   0   0  84   8 257  62]\n",
      " [  0   0   0  69  45  22 400]]\n",
      "Best parameters: {'n_neighbors': 3}\n",
      "Best score: 0.7188641752219653\n"
     ]
    }
   ],
   "source": [
    "import pandas as pd\n",
    "from sklearn.model_selection import train_test_split, GridSearchCV\n",
    "from sklearn.neighbors import KNeighborsClassifier\n",
    "from sklearn.metrics import accuracy_score, precision_score, confusion_matrix\n",
    "from sklearn.preprocessing import StandardScaler\n",
    "\n",
    "data = pd.read_excel('dataset.xlsx')\n",
    "\n",
    "X = data.drop('Class', axis=1)\n",
    "y = data['Class']\n",
    "X_train, X_test, y_train, y_test = train_test_split(X, y, test_size=0.2, random_state=42)\n",
    "\n",
    "knn_model = KNeighborsClassifier()\n",
    "knn_model.fit(X_train, y_train.values.ravel())\n",
    "\n",
    "y_train_pred = knn_model.predict(X_train)\n",
    "y_test_pred = knn_model.predict(X_test)\n",
    "\n",
    "accuracy = accuracy_score(y_test, y_test_pred)\n",
    "precision = precision_score(y_test, y_test_pred, average='weighted')\n",
    "confusion_mat = confusion_matrix(y_test, y_test_pred)\n",
    "\n",
    "print('Accuracy:', accuracy)\n",
    "print('Precision:', precision)\n",
    "print('Confusion matrix:\\n', confusion_mat)\n",
    "\n",
    "parameters = {'n_neighbors': [3, 5, 7, 9]}\n",
    "knn_model_gs = GridSearchCV(KNeighborsClassifier(), parameters)\n",
    "knn_model_gs.fit(X_train, y_train.values.ravel())\n",
    "\n",
    "print('Best parameters:', knn_model_gs.best_params_)\n",
    "print('Best score:', knn_model_gs.best_score_)"
   ]
  },
  {
   "cell_type": "code",
   "execution_count": null,
   "id": "8b3610a1",
   "metadata": {},
   "outputs": [],
   "source": []
  }
 ],
 "metadata": {
  "kernelspec": {
   "display_name": "Python 3 (ipykernel)",
   "language": "python",
   "name": "python3"
  },
  "language_info": {
   "codemirror_mode": {
    "name": "ipython",
    "version": 3
   },
   "file_extension": ".py",
   "mimetype": "text/x-python",
   "name": "python",
   "nbconvert_exporter": "python",
   "pygments_lexer": "ipython3",
   "version": "3.10.11"
  }
 },
 "nbformat": 4,
 "nbformat_minor": 5
}
