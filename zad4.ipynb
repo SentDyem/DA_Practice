{
 "cells": [
  {
   "cell_type": "code",
   "execution_count": null,
   "id": "bf397691",
   "metadata": {},
   "outputs": [],
   "source": []
  },
  {
   "cell_type": "code",
   "execution_count": null,
   "id": "d15a740e",
   "metadata": {},
   "outputs": [],
   "source": []
  },
  {
   "cell_type": "code",
   "execution_count": null,
   "id": "cdcea4c5",
   "metadata": {
    "scrolled": true
   },
   "outputs": [
    {
     "name": "stdout",
     "output_type": "stream",
     "text": [
      "Accuracy: 0.6312890194638267\n",
      "Precision: 0.6088340695480651\n",
      "Confusion matrix:\n",
      " [[ 21   0 170   0  60   0  10]\n",
      " [  0 117   0   0   0   0   0]\n",
      " [  9   0 284   0  24   0   0]\n",
      " [  0   0   0 556   0  85  30]\n",
      " [ 14   0  22  10 240   9 113]\n",
      " [  0   0   0 151  11 106 145]\n",
      " [  0   0   0  30  46  65 395]]\n"
     ]
    }
   ],
   "source": [
    "import pandas as pd\n",
    "from sklearn.model_selection import train_test_split, GridSearchCV\n",
    "from sklearn.svm import SVC\n",
    "from sklearn.metrics import accuracy_score, precision_score, confusion_matrix\n",
    "from sklearn.preprocessing import StandardScaler\n",
    "\n",
    "data = pd.read_excel('dataset.xlsx')\n",
    "X = data.drop('Class', axis=1)\n",
    "y = data[['Class']]\n",
    "X_train, X_test, y_train, y_test = train_test_split(X, y, test_size=0.2, random_state=42)\n",
    "\n",
    "\n",
    "svm_model = SVC()\n",
    "\n",
    "svm_model.fit(X_train, y_train.values.ravel())\n",
    "\n",
    "\n",
    "y_train_pred = svm_model.predict(X_train)\n",
    "y_test_pred = svm_model.predict(X_test)\n",
    "\n",
    "\n",
    "accuracy = accuracy_score(y_test, y_test_pred)\n",
    "precision = precision_score(y_test, y_test_pred, average='weighted')\n",
    "confusion_mat = confusion_matrix(y_test, y_test_pred)\n",
    "\n",
    "print('Accuracy:', accuracy)\n",
    "print('Precision:', precision)\n",
    "print('Confusion matrix:\\n', confusion_mat)\n",
    "\n",
    "\n",
    "parameters = {'C': [0.1, 0.5, 1, 5, 10], 'kernel': ['linear', 'rbf']}\n",
    "svm_model_gs = GridSearchCV(SVC(), parameters)\n",
    "svm_model_gs.fit(X_train, y_train.values.ravel())\n",
    "\n",
    "print('Best parameters:', svm_model_gs.best_params_)\n",
    "print('Best score:', svm_model_gs.best_score_)"
   ]
  },
  {
   "cell_type": "code",
   "execution_count": null,
   "id": "11aa9de7",
   "metadata": {},
   "outputs": [],
   "source": []
  },
  {
   "cell_type": "code",
   "execution_count": null,
   "id": "90a4655a",
   "metadata": {},
   "outputs": [],
   "source": []
  },
  {
   "cell_type": "code",
   "execution_count": null,
   "id": "9a454d4f",
   "metadata": {},
   "outputs": [],
   "source": []
  },
  {
   "cell_type": "code",
   "execution_count": null,
   "id": "7167df77",
   "metadata": {},
   "outputs": [],
   "source": []
  }
 ],
 "metadata": {
  "kernelspec": {
   "display_name": "Python 3 (ipykernel)",
   "language": "python",
   "name": "python3"
  },
  "language_info": {
   "codemirror_mode": {
    "name": "ipython",
    "version": 3
   },
   "file_extension": ".py",
   "mimetype": "text/x-python",
   "name": "python",
   "nbconvert_exporter": "python",
   "pygments_lexer": "ipython3",
   "version": "3.10.11"
  }
 },
 "nbformat": 4,
 "nbformat_minor": 5
}
