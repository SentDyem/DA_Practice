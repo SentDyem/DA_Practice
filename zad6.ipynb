{
 "cells": [
  {
   "cell_type": "code",
   "execution_count": 3,
   "id": "141cae00",
   "metadata": {},
   "outputs": [
    {
     "name": "stdout",
     "output_type": "stream",
     "text": [
      "Accuracy: 0.8939764936336925\n",
      "Precision: 0.8940121400465778\n",
      "Confusion matrix:\n",
      "[[358   0  24   0   2   2   9]\n",
      " [  0 161   0   0   0   0   0]\n",
      " [ 25   0 432   0  14   3   5]\n",
      " [  1   0   0 924   4  22  92]\n",
      " [  4   0  14   5 551   0  14]\n",
      " [  6   0   1  30   0 564  18]\n",
      " [  5   0   4  87  17  25 661]]\n",
      "Best parameters:\n",
      "{'max_depth': 7, 'min_samples_leaf': 1}\n",
      "Accuracy with best parameters: 0.9052399608227228\n",
      "Precision with best parameters: 0.905214714132882\n"
     ]
    }
   ],
   "source": [
    "import pandas as pd\n",
    "from sklearn.tree import DecisionTreeClassifier\n",
    "from sklearn.model_selection import train_test_split, GridSearchCV\n",
    "from sklearn.metrics import accuracy_score, precision_score, confusion_matrix\n",
    "from sklearn.preprocessing import StandardScaler\n",
    "\n",
    "data = pd.read_excel('dataset.xlsx')\n",
    "X = data.drop('Class', axis=1)\n",
    "y = data[['Class']]\n",
    "X_train, X_test, y_train, y_test = train_test_split(X, y, test_size=0.3, random_state=42)\n",
    "\n",
    "\n",
    "tree_model = DecisionTreeClassifier()\n",
    "tree_model.fit(X_train, y_train.values.ravel())\n",
    "\n",
    "y_train_pred = tree_model.predict(X_train)\n",
    "y_test_pred = tree_model.predict(X_test)\n",
    "\n",
    "\n",
    "accuracy = accuracy_score(y_test, y_test_pred)\n",
    "precision = precision_score(y_test, y_test_pred, average='weighted')\n",
    "\n",
    "print(\"Accuracy:\", accuracy)\n",
    "print(\"Precision:\", precision)\n",
    "\n",
    "confusion = confusion_matrix(y_test, y_test_pred)\n",
    "\n",
    "print(\"Confusion matrix:\")\n",
    "print(confusion)\n",
    "\n",
    "parameters = {'max_depth': [3, 5, 7], 'min_samples_leaf': [1, 5, 10]}\n",
    "clf = GridSearchCV(DecisionTreeClassifier(), parameters)\n",
    "clf.fit(X_train, y_train)\n",
    "\n",
    "print(\"Best parameters:\")\n",
    "print(clf.best_params_)\n",
    "\n",
    "best_model = DecisionTreeClassifier(max_depth=clf.best_params_['max_depth'], min_samples_leaf=clf.best_params_['min_samples_leaf'])\n",
    "best_model.fit(X_train, y_train.values.ravel())\n",
    "\n",
    "y_pred_best = best_model.predict(X_test)\n",
    "\n",
    "accuracy_best = accuracy_score(y_test, y_pred_best)\n",
    "precision_best = precision_score(y_test, y_pred_best, average='weighted')\n",
    "\n",
    "print(\"Accuracy with best parameters:\", accuracy_best)\n",
    "print(\"Precision with best parameters:\", precision_best)"
   ]
  },
  {
   "cell_type": "code",
   "execution_count": null,
   "id": "7d2863a9",
   "metadata": {},
   "outputs": [],
   "source": []
  }
 ],
 "metadata": {
  "kernelspec": {
   "display_name": "Python 3 (ipykernel)",
   "language": "python",
   "name": "python3"
  },
  "language_info": {
   "codemirror_mode": {
    "name": "ipython",
    "version": 3
   },
   "file_extension": ".py",
   "mimetype": "text/x-python",
   "name": "python",
   "nbconvert_exporter": "python",
   "pygments_lexer": "ipython3",
   "version": "3.10.11"
  }
 },
 "nbformat": 4,
 "nbformat_minor": 5
}
